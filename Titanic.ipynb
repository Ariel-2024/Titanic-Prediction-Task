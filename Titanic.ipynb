{
 "cells": [
  {
   "cell_type": "code",
   "execution_count": 27,
   "id": "71cfc8c0",
   "metadata": {},
   "outputs": [],
   "source": [
    "\n",
    "import pandas as pd\n",
    "\n",
    "from sklearn.linear_model import LogisticRegression\n",
    "from sklearn.preprocessing import LabelEncoder\n",
    "from sklearn.model_selection import train_test_split\n",
    "from sklearn.metrics import accuracy_score\n",
    "from sklearn.ensemble import RandomForestClassifier\n",
    "from xgboost import XGBClassifier\n",
    "import matplotlib.pyplot as plt\n"
   ]
  },
  {
   "cell_type": "code",
   "execution_count": 28,
   "id": "07f95995",
   "metadata": {},
   "outputs": [],
   "source": [
    "titanic_file_path = \"./titanic.csv\"\n",
    "titanic_data = pd.read_csv(titanic_file_path)\n"
   ]
  },
  {
   "cell_type": "markdown",
   "id": "92c17fcb",
   "metadata": {},
   "source": [
    "FEATURESELECTION"
   ]
  },
  {
   "cell_type": "code",
   "execution_count": 29,
   "id": "1c5f1f95",
   "metadata": {},
   "outputs": [],
   "source": [
    "\n",
    "#Print out the target value to be predicted \n",
    "y = titanic_data.Survived\n",
    "titanic_features = [\"Age\", \"Sex\", \"Embarked\", \"Fare\", \"Pclass\"]\n",
    "#Features of target to be predicted\n",
    "X = titanic_data[titanic_features].copy()\n",
    "X['Sex'] = X['Sex'].map({'male': 1, 'female': 0})\n",
    "X['Embarked'] = X['Embarked'].fillna('S')  # Fill missing with mode\n",
    "X = pd.get_dummies(X, columns=['Embarked'])\n"
   ]
  },
  {
   "cell_type": "markdown",
   "id": "5ead1db5",
   "metadata": {},
   "source": []
  },
  {
   "cell_type": "markdown",
   "id": "b5fde45f",
   "metadata": {},
   "source": [
    "DATA CLEANING"
   ]
  },
  {
   "cell_type": "code",
   "execution_count": 30,
   "id": "462d7e8e",
   "metadata": {},
   "outputs": [],
   "source": [
    "titanic_data['Cabin'] = titanic_data['Cabin'].fillna(titanic_data['Cabin'].mode()[0])\n",
    "X.loc[:, 'Age'] = X['Age'].fillna(X['Age'].median()) "
   ]
  },
  {
   "cell_type": "markdown",
   "id": "a7f568a2",
   "metadata": {},
   "source": [
    "DATA SPLIT"
   ]
  },
  {
   "cell_type": "code",
   "execution_count": 31,
   "id": "3b30bf98",
   "metadata": {},
   "outputs": [],
   "source": [
    "X_train, X_test, y_train, y_test = train_test_split(X,y, test_size=0.2,random_state=1)"
   ]
  },
  {
   "cell_type": "markdown",
   "id": "68c17ec8",
   "metadata": {},
   "source": [
    "LOG MODEL\n"
   ]
  },
  {
   "cell_type": "code",
   "execution_count": 32,
   "id": "770953ad",
   "metadata": {},
   "outputs": [
    {
     "name": "stdout",
     "output_type": "stream",
     "text": [
      "Accuracy for the logisticRegression: 0.770949720670391\n"
     ]
    }
   ],
   "source": [
    "log_model = LogisticRegression(random_state=1,max_iter=1000)\n",
    "#fit the model \n",
    "log_model.fit(X_train, y_train)\n",
    "#Prediction\n",
    "log_y_pred = log_model.predict(X_test)\n",
    "log_accuracy = accuracy_score(y_test, log_y_pred)\n",
    "print(\"Accuracy for the logisticRegression:\", log_accuracy)"
   ]
  },
  {
   "cell_type": "markdown",
   "id": "95890094",
   "metadata": {},
   "source": [
    "Random Model"
   ]
  },
  {
   "cell_type": "code",
   "execution_count": 33,
   "id": "d1acfc6b",
   "metadata": {},
   "outputs": [
    {
     "name": "stdout",
     "output_type": "stream",
     "text": [
      "Accuracy for the RandomForestRegressor: 0.8324022346368715\n"
     ]
    }
   ],
   "source": [
    "#Define The Model\n",
    "rf_model = RandomForestClassifier(random_state=1)\n",
    "#Fit the model\n",
    "rf_model.fit(X_train, y_train)\n",
    "#Prediction\n",
    "rf_y_pred = rf_model.predict(X_test)\n",
    "rf_accuracy = accuracy_score(y_test, rf_y_pred)\n",
    "print(\"Accuracy for the RandomForestRegressor:\",rf_accuracy )\n"
   ]
  },
  {
   "cell_type": "markdown",
   "id": "836c0281",
   "metadata": {},
   "source": [
    "XGBOOST Model"
   ]
  },
  {
   "cell_type": "code",
   "execution_count": 34,
   "id": "85b9eed0",
   "metadata": {},
   "outputs": [
    {
     "name": "stdout",
     "output_type": "stream",
     "text": [
      "XGBOOST ACCURACY: 0.8324022346368715\n"
     ]
    }
   ],
   "source": [
    "xgb_model = XGBClassifier()\n",
    "xgb_model.fit(X_train, y_train)\n",
    "xgb_y_pred = xgb_model.predict(X_test)\n",
    "xgb_accuracy = accuracy_score(y_test, rf_y_pred)\n",
    "print('XGBOOST ACCURACY:', xgb_accuracy)"
   ]
  },
  {
   "cell_type": "markdown",
   "id": "ae25834e",
   "metadata": {},
   "source": [
    "PERFORMANCE OF MODELS"
   ]
  },
  {
   "cell_type": "code",
   "execution_count": 35,
   "id": "4d99680b",
   "metadata": {},
   "outputs": [
    {
     "name": "stdout",
     "output_type": "stream",
     "text": [
      "\n",
      "Model Comparison:\n",
      "Logistic Regression: 0.7709\n",
      "Random Forest      : 0.8324\n",
      "XGBoost            : 0.8324\n"
     ]
    }
   ],
   "source": [
    "#Performance between models\n",
    "print(\"\\nModel Comparison:\")\n",
    "print(f\"Logistic Regression: {log_accuracy:.4f}\")\n",
    "print(f\"Random Forest      : {rf_accuracy:.4f}\")\n",
    "print(f\"XGBoost            : {xgb_accuracy:.4f}\")"
   ]
  },
  {
   "cell_type": "code",
   "execution_count": 36,
   "id": "68f75ad3",
   "metadata": {},
   "outputs": [
    {
     "name": "stdout",
     "output_type": "stream",
     "text": [
      "Making predictions for the survival of the shipwreck:\n",
      "    Age  Sex     Fare  Pclass  Embarked_C  Embarked_Q  Embarked_S\n",
      "0  22.0    1   7.2500       3       False       False        True\n",
      "1  38.0    0  71.2833       1        True       False       False\n",
      "2  26.0    0   7.9250       3       False       False        True\n",
      "3  35.0    0  53.1000       1       False       False        True\n",
      "4  35.0    1   8.0500       3       False       False        True\n",
      "The predictions are\n",
      "[0 1 1 1 0]\n"
     ]
    }
   ],
   "source": [
    "print(\"Making predictions for the survival of the shipwreck:\")\n",
    "print(X.head())\n",
    "print(\"The predictions are\")\n",
    "print(log_model.predict(X.head()))"
   ]
  }
 ],
 "metadata": {
  "kernelspec": {
   "display_name": "Python 3",
   "language": "python",
   "name": "python3"
  },
  "language_info": {
   "codemirror_mode": {
    "name": "ipython",
    "version": 3
   },
   "file_extension": ".py",
   "mimetype": "text/x-python",
   "name": "python",
   "nbconvert_exporter": "python",
   "pygments_lexer": "ipython3",
   "version": "3.13.5"
  }
 },
 "nbformat": 4,
 "nbformat_minor": 5
}
